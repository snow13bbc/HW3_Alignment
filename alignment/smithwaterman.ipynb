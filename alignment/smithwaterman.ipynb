{
 "cells": [
  {
   "cell_type": "code",
   "execution_count": 1,
   "metadata": {
    "collapsed": true
   },
   "outputs": [],
   "source": [
    "import numpy as np\n",
    "import pandas as pd\n",
    "import os\n",
    "import re\n",
    "import glob\n",
    "from skbio.alignment import local_pairwise_align, TabularMSA\n",
    "from skbio import Protein\n",
    "import itertools \n",
    "from sklearn.metrics import roc_curve, auc\n",
    "import matplotlib.pyplot as plt\n"
   ]
  },
  {
   "cell_type": "code",
   "execution_count": 2,
   "metadata": {
    "collapsed": true
   },
   "outputs": [],
   "source": [
    "def read_fasta(fp):\n",
    "    name, seq = None, []\n",
    "    for line in fp:\n",
    "        line = line.rstrip()\n",
    "        if line.startswith(\">\"):\n",
    "            if name: yield (name, ''.join(seq))\n",
    "            name, seq = line, []\n",
    "        else:\n",
    "            seq.append(line)\n",
    "    if name: yield (name, ''.join(seq))\n",
    "\n",
    "def get_sequences(dir):\n",
    "    files = glob.glob(dir + '/*.fa')\n",
    "    sequences = []\n",
    "    for filepath in glob.iglob(os.path.join(dir, \"*.fa\")):\n",
    "        with open(filepath) as fp:\n",
    "            for name, seq in read_fasta(fp):\n",
    "                sequences.append(seq)\n",
    "    print(\"Read in %d fasta files\"%len(files))\n",
    "    return sequences\n",
    "\n",
    "def read_score_matrix(filename):\n",
    "    '''\n",
    "    Read score matrices as dataframe.\n",
    "    Input: score matrix \n",
    "    Output: dataframe\n",
    "    '''\n",
    "    with open(filename) as mat:\n",
    "        matrix = mat.read()\n",
    "        lines = matrix.strip().split('\\n')\n",
    "        score_matrix = []\n",
    "        for line in lines:\n",
    "            if not line.startswith(\"#\"):\n",
    "                score_matrix.append(line)\n",
    "    aas_column = pd.DataFrame(score_matrix[0].strip().split(\"  \"))\n",
    "    scores = []\n",
    "    for i in range(len(score_matrix)-1):\n",
    "        ls = score_matrix[i+1].strip()\n",
    "        new = ls.split(\" \")\n",
    "        sub = []\n",
    "        for n in new:\n",
    "            if n != \"\":\n",
    "                sub.append(int(n))\n",
    "        scores.append(sub)\n",
    "        score_df = pd.DataFrame(scores)\n",
    "        score_df.columns = score_matrix[0].strip().split(\"  \")\n",
    "    df_score = aas_column.join(score_df)\n",
    "    df_score = df_score.set_index([0])\n",
    "    return df_score"
   ]
  },
  {
   "cell_type": "code",
   "execution_count": 3,
   "metadata": {
    "collapsed": true
   },
   "outputs": [],
   "source": [
    "def get_negpair_seq(dir):\n",
    "    '''\n",
    "    Get sequences for negative pairs.\n",
    "    Input: Directory for all the sequences\n",
    "    Output: List of negative pairs sequences\n",
    "    '''\n",
    "    files = glob.glob(dir + '/*.fa')\n",
    "    negpair_list = open('/Users/Snow/Desktop/BMI203_Algorithm/HW3_SNaing_2018/Negpairs.txt').read().splitlines()\n",
    "    neg_files, neg_files2 = [],[]\n",
    "    negpair_sequences, negpair2_sequences  = [], []\n",
    "    for seq_file in files:\n",
    "        for negpair in negpair_list:\n",
    "            if negpair[10:22] in seq_file[-12:]:\n",
    "                neg_files.append(seq_file)\n",
    "            if negpair[33:] in seq_file[-12:]:\n",
    "                neg_files2.append(seq_file)\n",
    "    for neg_file in neg_files:\n",
    "        with open(neg_file) as neg:\n",
    "            for name, neg_seq in read_fasta(neg):\n",
    "                negpair_sequences.append(neg_seq)\n",
    "    for neg_file in neg_files2:\n",
    "        with open(neg_file) as neg:\n",
    "            for name, neg2_seq in read_fasta(neg):\n",
    "                negpair2_sequences.append(neg2_seq)\n",
    "    #Some of the sequences has \"x\" as a gap. I'm replacing those 'x's with '-'\n",
    "    #so it works with skbio package. Not really a good way but it works.\n",
    "    without_x = [s for s in negpair2_sequences if 'x' not in s]\n",
    "    with_x= [s for s in negpair2_sequences if 'x' in s]\n",
    "    with_x =' '.join(with_x)\n",
    "    with_x = with_x.replace('x', '-')\n",
    "    without_x.append(with_x)\n",
    "    negpair2_sequences = without_x\n",
    "    print(\"Read in %d negative pair fasta files\" %len(negpair_sequences))\n",
    "    print(\"Read in %d negative pair fasta files\" %len(negpair2_sequences))\n",
    "    return negpair_sequences, negpair2_sequences\n",
    "\n",
    "def get_pospair_seq(dir):\n",
    "    '''\n",
    "    Get sequences for positive pairs.\n",
    "    Input: Directory for all the sequences\n",
    "    Output: List of positive pairs sequences\n",
    "    '''\n",
    "    files = glob.glob(dir + '/*.fa')\n",
    "    pospair_list = open('/Users/Snow/Desktop/BMI203_Algorithm/HW3_SNaing_2018/Pospairs.txt').read().splitlines()\n",
    "    pos_files,pos2_files = [],[]\n",
    "    pospair_sequences,pospair2_sequences = [],[]\n",
    "    for seq_file in files:\n",
    "        for pospair in pospair_list:\n",
    "            if pospair[10:22] in seq_file[-12:]:\n",
    "                pos_files.append(seq_file)\n",
    "            if pospair[33:] in seq_file[-12:]:\n",
    "                pos2_files.append(seq_file)\n",
    "    for pos_file in pos_files:\n",
    "        with open(pos_file) as pos:\n",
    "            for name, pos_seq in read_fasta(pos):\n",
    "                pospair_sequences.append(pos_seq)\n",
    "    for pos_file in pos2_files:\n",
    "        with open(pos_file) as pos:\n",
    "            for name, pos2_seq in read_fasta(pos):\n",
    "                pospair2_sequences.append(pos2_seq)    \n",
    "    print(\"Read in %d positive pair fasta files\" %len(pospair_sequences))\n",
    "    print(\"Read in %d positive pair fasta files\" %len(pospair2_sequences))\n",
    "    return pospair_sequences, pospair2_sequences"
   ]
  },
  {
   "cell_type": "code",
   "execution_count": 4,
   "metadata": {
    "collapsed": true,
    "scrolled": true
   },
   "outputs": [],
   "source": [
    "def read_score_matrix(filepath):\n",
    "    with open(filepath) as mat:\n",
    "        matrix = mat.read()\n",
    "        lines = matrix.strip().split('\\n')\n",
    "        score_matrix = []\n",
    "        for line in lines:\n",
    "            if not line.startswith(\"#\"):\n",
    "                score_matrix.append(line)\n",
    "    aas_column = pd.DataFrame(score_matrix[0].strip().split(\"  \"))\n",
    "    scores = []\n",
    "    for i in range(len(score_matrix)-1):\n",
    "        ls = score_matrix[i+1].strip()\n",
    "        new = ls.split(\" \")\n",
    "        sub = []\n",
    "        for n in new:\n",
    "            if n != \"\":\n",
    "                sub.append(int(n))\n",
    "        scores.append(sub)\n",
    "        score_df = pd.DataFrame(scores)\n",
    "        score_df.columns = score_matrix[0].strip().split(\"  \")\n",
    "    df_score = aas_column.join(score_df)\n",
    "    df_score = df_score.set_index([0])\n",
    "    return df_score\n",
    "   \n",
    "\n",
    "                    "
   ]
  },
  {
   "cell_type": "code",
   "execution_count": 5,
   "metadata": {
    "collapsed": true
   },
   "outputs": [],
   "source": [
    "def align(seq1, seq2, gap_open_penalty, gap_extend_penalty, substitution_matrix):\n",
    "    sequence1 = Protein(seq1)\n",
    "    sequence2 = Protein(seq2)\n",
    "    return local_pairwise_align(sequence1, sequence2, gap_open_penalty, gap_extend_penalty, substitution_matrix)\n",
    "    "
   ]
  },
  {
   "cell_type": "code",
   "execution_count": 142,
   "metadata": {},
   "outputs": [
    {
     "name": "stdout",
     "output_type": "stream",
     "text": [
      "Read in 50 negative pair fasta files\n",
      "Read in 50 negative pair fasta files\n",
      "Read in 50 positive pair fasta files\n",
      "Read in 50 positive pair fasta files\n"
     ]
    }
   ],
   "source": [
    "directory = '/Users/Snow/Desktop/BMI203_Algorithm/HW3_SNaing_2018/sequences/'\n",
    "negpairs1, negpairs2 = get_negpair_seq(directory)\n",
    "pospairs1, pospairs2 = get_pospair_seq(directory)\n",
    "blosum50 = read_score_matrix('/Users/Snow/Desktop/BMI203_Algorithm/HW3_SNaing_2018/matrices/BLOSUM50')\n",
    "blosum62 = read_score_matrix('/Users/Snow/Desktop/BMI203_Algorithm/HW3_SNaing_2018/matrices/BLOSUM62')\n",
    "matio = read_score_matrix('/Users/Snow/Desktop/BMI203_Algorithm/HW3_SNaing_2018/matrices/MATIO')\n",
    "pam100 = read_score_matrix('/Users/Snow/Desktop/BMI203_Algorithm/HW3_SNaing_2018/matrices/PAM100')\n",
    "pam250 = read_score_matrix('/Users/Snow/Desktop/BMI203_Algorithm/HW3_SNaing_2018/matrices/PAM250')\n"
   ]
  },
  {
   "cell_type": "markdown",
   "metadata": {},
   "source": [
    "# Finding best gap panalties scores at TPR = 0.7 for BLOSUM50"
   ]
  },
  {
   "cell_type": "code",
   "execution_count": 66,
   "metadata": {
    "scrolled": true
   },
   "outputs": [
    {
     "name": "stdout",
     "output_type": "stream",
     "text": [
      "Best Open and extension gap penalty scores are 1 and 5.\n",
      "Best False positive rate is 0.\n"
     ]
    }
   ],
   "source": [
    "possible_gap_extend_penalties = list(range(1,6))\n",
    "possible_gap_open_penalties = list(range(1,21))\n",
    "best_fpr = float('inf')\n",
    "best_gap = None\n",
    "best_extension = None\n",
    "\n",
    "for open_penalty in possible_gap_open_penalties: \n",
    "    for extend_penalty in possible_gap_extend_penalties:\n",
    "        pos_align_score = []\n",
    "        neg_align_score = []\n",
    "        for i in range(0,len(pospairs1)):\n",
    "            aln_p, score_p, _ = align(pospairs1[i],pospairs2[i], open_penalty,extend_penalty, blosum50)\n",
    "            aln_n, score_n, _ = align(negpairs1[i],negpairs2[i], open_penalty,extend_penalty, blosum50)\n",
    "            pos_align_score.append(score_p)\n",
    "            neg_align_score.append(score_n)\n",
    "        pos_align_score.sort()\n",
    "        neg_align_score.sort()\n",
    "        tpr = 0.7 #tpr = #>thresh / total scores\n",
    "        cutoff_index = int((1-tpr)*len(pos_align_score))# find the index that makes it so tpr*lenscores is > threshold\n",
    "        threshold = pos_align_score[cutoff_index]\n",
    "        neg_score_np = np.array(neg_align_score)\n",
    "        fpr = len(neg_score_np[neg_score_np > threshold])/len(neg_score_np) #False Positive Rate\n",
    "        if fpr < best_fpr:\n",
    "            best_fpr = fpr\n",
    "            best_gap = open_penalty\n",
    "            best_extension = extend_penalty\n",
    "    \n",
    "print('Best Open and extension gap penalty scores are %d and %d.' % (best_gap,best_extension))\n",
    "print('Best False positive rate is %d.' %(best_fpr))\n",
    "            \n",
    "            "
   ]
  },
  {
   "cell_type": "markdown",
   "metadata": {},
   "source": [
    "# Finding best scoring matrix; Plotting ROC graph"
   ]
  },
  {
   "cell_type": "code",
   "execution_count": 108,
   "metadata": {},
   "outputs": [
    {
     "data": {
      "image/png": "[encoded data removed]",
      "text/plain": [
       "<matplotlib.figure.Figure at 0x1a15faea90>"
      ]
     },
     "metadata": {},
     "output_type": "display_data"
    }
   ],
   "source": [
    "matrices = [blosum50,blosum62,matio,pam100,pam250]\n",
    "matrix_names = ['blosum50','blosum62','matio','pam100','pam250']\n",
    "score_list = [] #Combined negative and positive scores as numpy array\n",
    "true_pos = [1]*50 # ture_pos = [1]*len(pos)\n",
    "true_neg = [0]*50 # ture_neg = [0]*len(neg)\n",
    "combined_trues = np.concatenate((true_pos,true_neg)) #Telling sckit-roc curve which are pos, which are neg\n",
    "\n",
    "for m in matrices: \n",
    "    pos_align_score =[]\n",
    "    neg_align_score = []\n",
    "    for i in range(0,len(pospairs1)):\n",
    "        aln_p, score_p, _ = align(pospairs1[i],pospairs2[i], best_gap ,best_extension, m)\n",
    "        aln_n, score_n, _ = align(negpairs1[i],negpairs2[i], best_gap ,best_extension, m)\n",
    "        pos_align_score.append(score_p)\n",
    "        neg_align_score.append(score_n)    \n",
    "    score_list.append(np.concatenate((np.asarray(pos_align_score), np.asarray(neg_align_score))))\n",
    "\n",
    "plt.figure()\n",
    "plt.plot([0,1],[0,1])\n",
    "plt.xlabel(\"False Positive Rate\")\n",
    "plt.ylabel(\"True Positive Rate\")\n",
    "plt.title(\"ROC\")\n",
    "plt.axhline(0.7, color = 'm', linestyle = '--')\n",
    "for score, label in zip(score_list, matrix_names):\n",
    "    fpr,tpr, treshold = roc_curve(combined_trues,score, pos_label=1)\n",
    "    plt.plot(fpr, tpr, label=label)\n",
    "plt.legend()\n",
    "plt.show()\n",
    "plt.close()"
   ]
  },
  {
   "cell_type": "markdown",
   "metadata": {},
   "source": [
    "# Normalize SW score with shortest sequence length"
   ]
  },
  {
   "cell_type": "code",
   "execution_count": 107,
   "metadata": {},
   "outputs": [
    {
     "data": {
      "image/png": "[encoded data removed]",
      "text/plain": [
       "<matplotlib.figure.Figure at 0x1a15638278>"
      ]
     },
     "metadata": {},
     "output_type": "display_data"
    }
   ],
   "source": [
    "norm_pos_score, norm_neg_score = [], []\n",
    "for i in range(0,len(pospairs1)):\n",
    "    aln_p, score_p, _ = align(pospairs1[i],pospairs2[i], best_gap ,best_extension, blosum62)\n",
    "    aln_n, score_n, _ = align(negpairs1[i],negpairs2[i], best_gap ,best_extension, blosum62)\n",
    "    norm_pos = score_p/min(len(pospairs1[i]),len(pospairs2[i]))\n",
    "    norm_neg = score_n/min(len(negpairs1[i]),len(negpairs2[i]))\n",
    "    norm_pos_score.append(norm_pos)\n",
    "    norm_neg_score.append(norm_neg)\n",
    "\n",
    "norm_pos_np = np.asarray(norm_pos_score)\n",
    "norm_neg_np = np.asarray(norm_neg_score)\n",
    "norm_combined = np.concatenate((norm_pos_np,norm_neg_np))\n",
    "norm_true_pos = [1]*len(norm_pos_score)\n",
    "norm_true_neg = [0]*len(norm_neg_score)\n",
    "norm_combined_trues = np.concatenate((norm_true_pos,norm_true_neg))\n",
    "\n",
    "norm_fpr,norm_tpr, treshold = roc_curve(norm_combined_trues,norm_combined, pos_label=1) #This is for normalized ROC\n",
    "fpr,tpr, treshold = roc_curve(combined_trues,score_list[1], pos_label=1) # This is for regular ROC\n",
    "plt.figure()\n",
    "plt.plot(norm_fpr,norm_tpr, 'r', label = 'BLOSUM62-Normalized')\n",
    "plt.plot(fpr, tpr, label = 'BLOSUM62')\n",
    "plt.plot([0,1],[0,1])\n",
    "plt.xlabel(\"False Positive Rate\")\n",
    "plt.ylabel(\"True Positive Rate\")\n",
    "plt.legend()\n",
    "plt.title(\"ROC: Best Matrix - Blosum 62\")\n",
    "plt.axhline(0.7, color = 'm', linestyle = '--')\n",
    "plt.show()\n",
    "plt.close()"
   ]
  },
  {
   "cell_type": "markdown",
   "metadata": {
    "collapsed": true
   },
   "source": [
    "# Optimization"
   ]
  },
  {
   "cell_type": "code",
   "execution_count": 60,
   "metadata": {
    "collapsed": true
   },
   "outputs": [],
   "source": [
    "def obj_fun(pos, neg):\n",
    "    '''\n",
    "    return sum of TP rates for FP rates of 0.0, 0.1, 0.2, and 0.3.\n",
    "    '''\n",
    "\n",
    "    fp = []\n",
    "    tp = []\n",
    "\n",
    "    for t in [0.0,0.1,0.2,0.3]:\n",
    "        thresh = np.percentile(neg, 100*(1-t))\n",
    "        false_positives = [i for i in neg if i > thresh]\n",
    "        fpr = len(false_positives)/float(len(neg))\n",
    "        true_positives = [i for i in pos if i > thresh]\n",
    "        tpr = len(true_positives)/float(len(pos))\n",
    "        tp.append(tpr)\n",
    "        fp.append(fpr)\n",
    "\n",
    "    return(sum(tp))"
   ]
  },
  {
   "cell_type": "code",
   "execution_count": 100,
   "metadata": {},
   "outputs": [],
   "source": [
    "def new_matrix(matrices):\n",
    "    '''\n",
    "    Randomoly switches indices of original scoring matrix. (i.e. giving amino acids new scores.)\n",
    "    Return 5 new matrices. \n",
    "    '''\n",
    "    new_matrices = []\n",
    "    for m in matrices: \n",
    "        new_mat = m.copy()\n",
    "        a,b,c,d,e,f = np.random.choice(range(len(m.columns)), 6)\n",
    "        index = list(m.columns)\n",
    "        index[a], index[b], index[c], index[d], index[e], index[f]= index[f], index[e], index[a], index[b], index[c], index[d]\n",
    "        new_mat.columns = index\n",
    "        new_mat.index = index\n",
    "        new_matrices.append(new_mat)\n",
    "    return new_matrices "
   ]
  },
  {
   "cell_type": "code",
   "execution_count": null,
   "metadata": {},
   "outputs": [],
   "source": [
    "new_matrix_names= ['blosum50-mut','blosum62-mut','matio-mut','pam100-mut','pam250-mut']\n",
    "new_score_list = [] #Combined negative and positive scores as numpy array\n",
    "new_true_pos= [1]*50 # ture_pos = [1]*len(pos)\n",
    "new_true_neg= [0]*50 # ture_neg = [0]*len(neg)\n",
    "new_combined_trues= np.concatenate((new_true_pos,new_true_neg)) #Telling sckit-roc curve which are pos, which are neg\n",
    "obj_sum_tps= [] #For calculating sum of tps using objective function\n",
    "max_fitness = 0 # To calculate max fitness\n",
    "for m in new_matrix(matrices): \n",
    "    new_pos_align_score =[]\n",
    "    new_neg_align_score = []\n",
    "    print ('At matrix!')\n",
    "    for i in range(0,len(pospairs1)):\n",
    "        aln_p, new_score_p, _ = align(pospairs1[i],pospairs2[i], best_gap ,best_extension, m)\n",
    "        aln_n, new_score_n, _ = align(negpairs1[i],negpairs2[i], best_gap ,best_extension, m)\n",
    "        new_pos_align_score.append(new_score_p)\n",
    "        new_neg_align_score.append(new_score_n)\n",
    "        print('At score!')\n",
    "        sum_tps = obj_fun(new_pos_align_score, new_neg_align_score)\n",
    "        obj_sum_tps.append(sum_tps)\n",
    "        if sum_tps > max_fitness:\n",
    "            max_fitness = sum_tps\n",
    "            print ('calculated Max Fitness!')\n",
    "    new_score_list.append(np.concatenate((np.asarray(new_pos_align_score), np.asarray(new_neg_align_score))))\n",
    "\n",
    "plt.figure()\n",
    "plt.plot([0,1],[0,1])\n",
    "plt.xlabel(\"False Positive Rate\")\n",
    "plt.ylabel(\"True Positive Rate\")\n",
    "plt.title(\"ROC using new mutated score matrices\")\n",
    "plt.axhline(0.7, color = 'y', linestyle = '--')\n",
    "for new_score, new_label in zip(new_score_list, new_matrix_names):\n",
    "    new_fpr,new_tpr, treshold = roc_curve(new_combined_trues,new_score, pos_label=1)\n",
    "    plt.plot(new_fpr, new_tpr, label=new_label)\n",
    "plt.legend()\n",
    "plt.show()\n",
    "plt.close()"
   ]
  },
  {
   "cell_type": "code",
   "execution_count": 124,
   "metadata": {},
   "outputs": [],
   "source": [
    "new_mat = new_matrix(matrices)"
   ]
  },
  {
   "cell_type": "code",
   "execution_count": 134,
   "metadata": {},
   "outputs": [],
   "source": [
    "blosum50_mut = pd.DataFrame(new_mat[0])\n",
    "blosum62_mut = pd.DataFrame(new_mat[1])\n",
    "matio_mut = pd.DataFrame(new_mat[2])\n",
    "pam100_mut = pd.DataFrame(new_mat[3])\n",
    "pam250_mut = pd.DataFrame(new_mat[4])"
   ]
  },
  {
   "cell_type": "code",
   "execution_count": 136,
   "metadata": {},
   "outputs": [],
   "source": [
    "blosum50_mut.to_csv('blosum50-mut.txt', index=True, sep=' ', header=True)\n",
    "blosum62_mut.to_csv('blosum62-mut.txt', index=True, sep=' ', header=True)\n",
    "matio_mut.to_csv('matio_mut.txt', index=True, sep=' ', header=True)\n",
    "pam100_mut.to_csv('pam100-mut.txt', index=True, sep=' ', header=True)\n",
    "pam250_mut.to_csv('pam250-mut.txt', index=True, sep=' ', header=True)"
   ]
  },
  {
   "cell_type": "code",
   "execution_count": null,
   "metadata": {
    "collapsed": true
   },
   "outputs": [],
   "source": []
  }
 ],
 "metadata": {
  "kernelspec": {
   "display_name": "Python 3",
   "language": "python",
   "name": "python3"
  },
  "language_info": {
   "codemirror_mode": {
    "name": "ipython",
    "version": 3
   },
   "file_extension": ".py",
   "mimetype": "text/x-python",
   "name": "python",
   "nbconvert_exporter": "python",
   "pygments_lexer": "ipython3",
   "version": "3.6.4"
  }
 },
 "nbformat": 4,
 "nbformat_minor": 2
}
